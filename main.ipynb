{
 "cells": [
  {
   "cell_type": "code",
   "execution_count": 1,
   "id": "95d2c5bf",
   "metadata": {},
   "outputs": [],
   "source": [
    "import numpy as np\n",
    "import pandas as pd\n",
    "\n",
    "import matplotlib.pyplot as plt\n",
    "import seaborn as sns\n",
    "\n",
    "from kaggle_environments import make, evaluate\n",
    "\n",
    "from my_agents import agents"
   ]
  },
  {
   "cell_type": "code",
   "execution_count": 2,
   "id": "9573472d",
   "metadata": {},
   "outputs": [],
   "source": [
    "#создаем окурежние для игры агентов\n",
    "env = make(\n",
    "    \"rps\", \n",
    "    configuration={\n",
    "        \"episodeSteps\": 100\n",
    "    }\n",
    ")"
   ]
  },
  {
   "cell_type": "code",
   "execution_count": 3,
   "id": "1a72724f",
   "metadata": {},
   "outputs": [],
   "source": [
    "#в переменной total_score будем хранить сумму баллов для кажного агента\n",
    "total_score = {}\n",
    "\n",
    "#каждый из агентов играет со всеми остальными, баллы за игры суммируются\n",
    "for agent_1 in agents:\n",
    "    for agent_2 in agents:\n",
    "        if agent_1 == agent_2:\n",
    "            continue\n",
    "            \n",
    "        agent_1_score = env.run(\n",
    "                [agents['only_paper'], agents['random_by_even']]\n",
    "            )[-1][0]['observation']['reward']\n",
    "        if agent_1 not in total_score:\n",
    "            total_score[agent_1] = agent_1_score\n",
    "        else:\n",
    "            total_score[agent_1] += agent_1_score"
   ]
  },
  {
   "cell_type": "code",
   "execution_count": 4,
   "id": "92c044ce",
   "metadata": {},
   "outputs": [
    {
     "data": {
      "text/plain": [
       "{'random_agent': 27,\n",
       " 'only_rock': -31,\n",
       " 'only_paper': 1,\n",
       " 'only_scissors': -3,\n",
       " 'rock_and_paper': 13,\n",
       " 'rock_and_scissors': 21,\n",
       " 'paper_and_scissors': -15,\n",
       " 'last_action': 27,\n",
       " 'random_by_even': -21,\n",
       " 'repeat_win': 17,\n",
       " 'paper_scissors_repeat': -29,\n",
       " 'rock_paper_repeat': 7}"
      ]
     },
     "execution_count": 4,
     "metadata": {},
     "output_type": "execute_result"
    }
   ],
   "source": [
    "#общий список баллов для каждого агента\n",
    "total_score"
   ]
  }
 ],
 "metadata": {
  "kernelspec": {
   "display_name": "Python 3 (ipykernel)",
   "language": "python",
   "name": "python3"
  },
  "language_info": {
   "codemirror_mode": {
    "name": "ipython",
    "version": 3
   },
   "file_extension": ".py",
   "mimetype": "text/x-python",
   "name": "python",
   "nbconvert_exporter": "python",
   "pygments_lexer": "ipython3",
   "version": "3.9.7"
  }
 },
 "nbformat": 4,
 "nbformat_minor": 5
}
